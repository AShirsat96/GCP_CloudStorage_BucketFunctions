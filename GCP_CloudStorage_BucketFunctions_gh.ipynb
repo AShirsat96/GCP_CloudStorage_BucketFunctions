{
 "cells": [
  {
   "cell_type": "code",
   "execution_count": 1,
   "id": "1c5e936c",
   "metadata": {},
   "outputs": [],
   "source": [
    "#!pip install google-cloud-storage"
   ]
  },
  {
   "cell_type": "code",
   "execution_count": 2,
   "id": "d54a067c",
   "metadata": {},
   "outputs": [],
   "source": [
    "#!pip install google-auth google-auth-application-default"
   ]
  },
  {
   "cell_type": "code",
   "execution_count": 3,
   "id": "49c985b6",
   "metadata": {},
   "outputs": [],
   "source": [
    "import os"
   ]
  },
  {
   "cell_type": "code",
   "execution_count": 4,
   "id": "5a510180",
   "metadata": {},
   "outputs": [],
   "source": [
    "import os.path"
   ]
  },
  {
   "cell_type": "code",
   "execution_count": 5,
   "id": "0a7d3ad1",
   "metadata": {},
   "outputs": [],
   "source": [
    "import sys"
   ]
  },
  {
   "cell_type": "code",
   "execution_count": 6,
   "id": "cc59bfa9",
   "metadata": {},
   "outputs": [],
   "source": [
    "import venv"
   ]
  },
  {
   "cell_type": "code",
   "execution_count": 7,
   "id": "86ebe64f",
   "metadata": {},
   "outputs": [],
   "source": [
    "from google.cloud import storage"
   ]
  },
  {
   "cell_type": "code",
   "execution_count": 8,
   "id": "dbef0f04",
   "metadata": {},
   "outputs": [],
   "source": [
    "def authenticate_implicit_with_adc(project_id=<\"Mention your project ID\">):\n",
    "    \"\"\"\n",
    "    When interacting with Google Cloud Client libraries, the library can auto-detect the\n",
    "    credentials to use.\n",
    "\n",
    "    // TODO(Developer):\n",
    "    //  1. Before running this sample,\n",
    "    //  set up ADC as described in https://cloud.google.com/docs/authentication/external/set-up-adc\n",
    "    //  2. Replace the project variable.\n",
    "    //  3. Make sure that the user account or service account that you are using\n",
    "    //  has the required permissions.\n",
    "        project_id: The project id of your Google Cloud project.\n",
    "    \"\"\"\n",
    "    storage_client = storage.Client(project=project_id)\n",
    "    buckets = storage_client.list_buckets()"
   ]
  },
  {
   "cell_type": "code",
   "execution_count": 9,
   "id": "79448a63",
   "metadata": {},
   "outputs": [],
   "source": [
    "project_id = <\"Mention your project ID\">"
   ]
  },
  {
   "cell_type": "code",
   "execution_count": 10,
   "id": "5c0146bf",
   "metadata": {},
   "outputs": [],
   "source": [
    "authenticate_implicit_with_adc(<\"Mention your project ID\">)"
   ]
  },
  {
   "cell_type": "code",
   "execution_count": 11,
   "id": "18513026",
   "metadata": {},
   "outputs": [],
   "source": [
    "storage_client = storage.Client(project=project_id)"
   ]
  },
  {
   "cell_type": "markdown",
   "id": "6c9760b3",
   "metadata": {},
   "source": [
    "### Create buckets inside your cloud storage"
   ]
  },
  {
   "cell_type": "code",
   "execution_count": 12,
   "id": "1aad1afd",
   "metadata": {},
   "outputs": [],
   "source": [
    "def create_bucket_CloudStorage(bucket_name):\n",
    "    \"\"\"\n",
    "    Create a new bucket in the asia southeast region with the standard storage\n",
    "    class\n",
    "    \"\"\"\n",
    "    #bucket_name = \"aniksmybucket\"\n",
    "\n",
    "    bucket = storage_client.bucket(bucket_name)\n",
    "    bucket.storage_class = \"STANDARD\" # You need to check the storage class of your bucket\n",
    "    new_bucket = storage_client.create_bucket(bucket, location=\"asia-southeast1\") # Location: Mention your bucket location\n",
    "    print(\"Created bucket {} in {} with storage class {}\".format(\n",
    "            new_bucket.name, new_bucket.location, new_bucket.storage_class))\n",
    "    return new_bucket"
   ]
  },
  {
   "cell_type": "code",
   "execution_count": 13,
   "id": "f31cf5ec",
   "metadata": {},
   "outputs": [
    {
     "name": "stdout",
     "output_type": "stream",
     "text": [
      "Created bucket anismybucket in ASIA-SOUTHEAST1 with storage class STANDARD\n"
     ]
    },
    {
     "data": {
      "text/plain": [
       "<Bucket: anismybucket>"
      ]
     },
     "execution_count": 13,
     "metadata": {},
     "output_type": "execute_result"
    }
   ],
   "source": [
    "create_bucket_CloudStorage('anismybucket')"
   ]
  },
  {
   "cell_type": "markdown",
   "id": "5be18168",
   "metadata": {},
   "source": [
    "### List all the buckets in your cloud storage"
   ]
  },
  {
   "cell_type": "code",
   "execution_count": 14,
   "id": "9d9f902e",
   "metadata": {},
   "outputs": [],
   "source": [
    "def list_buckets_CloudStorage():\n",
    "    \"\"\"Lists all buckets.\"\"\"\n",
    "    try:\n",
    "        buckets = storage_client.list_buckets()\n",
    "\n",
    "        for bucket in buckets:\n",
    "            print(bucket.name)\n",
    "    except Exception as e:\n",
    "        print(\"An error occurred:\", str(e))\n",
    "    finally:\n",
    "        storage_client.close()"
   ]
  },
  {
   "cell_type": "code",
   "execution_count": 15,
   "id": "3388d480",
   "metadata": {},
   "outputs": [
    {
     "name": "stdout",
     "output_type": "stream",
     "text": [
      "aniketmybucket\n",
      "aniksmybucket\n",
      "anismybucket\n"
     ]
    }
   ],
   "source": [
    "list_buckets_CloudStorage()"
   ]
  },
  {
   "cell_type": "markdown",
   "id": "24536643",
   "metadata": {},
   "source": [
    "### Delete bucket from Cloud Storage"
   ]
  },
  {
   "cell_type": "code",
   "execution_count": 16,
   "id": "66162c3f",
   "metadata": {},
   "outputs": [],
   "source": [
    "def delete_bucket_CloudStorage(bucket_name):\n",
    "    bucket = storage_client.get_bucket(bucket_name)\n",
    "    bucket.delete()\n",
    "\n",
    "    print(f\"Bucket {bucket.name} deleted\")"
   ]
  },
  {
   "cell_type": "code",
   "execution_count": 17,
   "id": "5e7e30b6",
   "metadata": {},
   "outputs": [
    {
     "name": "stdout",
     "output_type": "stream",
     "text": [
      "Bucket anismybucket deleted\n"
     ]
    }
   ],
   "source": [
    "delete_bucket_CloudStorage(\"anismybucket\")"
   ]
  }
 ],
 "metadata": {
  "kernelspec": {
   "display_name": "Python 3",
   "language": "python",
   "name": "python3"
  },
  "language_info": {
   "codemirror_mode": {
    "name": "ipython",
    "version": 3
   },
   "file_extension": ".py",
   "mimetype": "text/x-python",
   "name": "python",
   "nbconvert_exporter": "python",
   "pygments_lexer": "ipython3",
   "version": "3.8.8"
  }
 },
 "nbformat": 4,
 "nbformat_minor": 5
}
